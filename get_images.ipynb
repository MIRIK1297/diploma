{
 "cells": [
  {
   "cell_type": "code",
   "execution_count": null,
   "metadata": {},
   "outputs": [],
   "source": [
    "classes = [('Airliner', 'n02690373'),\n",
    "            ('Sorrel', 'n02389026'),\n",
    "            ('Jack-o’-lantern', 'n03590841')\n",
    "            ('Panda', 'n02510455'),\n",
    "            ('Anemone fish', 'n02607072')]\n",
    "\n",
    "print(classes)\n",
    "\n",
    "urls_pref = 'http://image-net.org/api/text/imagenet.synset.geturls?wnid='\n",
    "images_path = 'images/'\n",
    "\n",
    "random_seed = 42"
   ]
  },
  {
   "cell_type": "markdown",
   "metadata": {},
   "source": [
    "## Download required images from ImageNet"
   ]
  },
  {
   "cell_type": "code",
   "execution_count": null,
   "metadata": {},
   "outputs": [],
   "source": [
    "import requests\n",
    "import os\n",
    "import json\n",
    "import random\n",
    "from PIL import Image\n",
    "\n",
    "IMAGES_NEED_PER_CLASS = 70\n",
    "rand = random.Random(random_seed)\n",
    "\n",
    "for cl in classes:\n",
    "    class_path = images_path + cl[0] + '/'\n",
    "    if not os.path.exists(class_path):\n",
    "        os.makedirs(class_path)\n",
    "\n",
    "    urls_res = requests.get(url=urls_pref + cl[1])\n",
    "    if not urls_res.ok:\n",
    "        print(cl[0] + ' GET bad response: ', urls_response)\n",
    "    else:\n",
    "        image_urls = urls_res.text.split(sep='\\r\\n')\n",
    "        used_urls = []\n",
    "        rand.shuffle(image_urls)\n",
    "        num_saved = 0\n",
    "        for image_url in image_urls:\n",
    "            try:\n",
    "                img_res = requests.get(url=image_url, timeout=10)\n",
    "            except:\n",
    "                print(image_url + ' GET failed')\n",
    "                continue\n",
    "                \n",
    "            if not img_res.ok:\n",
    "                print(image_url + ' GET bad response: ', img_res)\n",
    "            else:\n",
    "                img_data = img_res.content\n",
    "                img_path = class_path + str(num_saved) + '.jpg'\n",
    "                with open(img_path, 'wb') as handler:\n",
    "                    handler.write(img_data)\n",
    "                    \n",
    "                try:\n",
    "                    original_image = Image.open(img_path)\n",
    "                    num_saved += 1\n",
    "                    used_urls.append(image_url)\n",
    "                except:\n",
    "                    print(image_url + ' corrupted, path: ' + img_path)\n",
    "                    os.remove(img_path)\n",
    "                    continue\n",
    "                \n",
    "                if num_saved == IMAGES_NEED_PER_CLASS:\n",
    "                    break\n",
    "            \n",
    "        with open(class_path + 'used_image_urls.json', 'w', encoding='utf-8') as f:\n",
    "            json.dump(used_urls, f, ensure_ascii=False, indent=4)\n",
    "            \n",
    "        with open(class_path + 'all_image_urls.json', 'w', encoding='utf-8') as f:\n",
    "            json.dump(image_urls, f, ensure_ascii=False, indent=4)\n",
    "                    \n",
    "        if num_saved != IMAGES_NEED_PER_CLASS:\n",
    "            print('Failed to download enough images for class ' + cl[0] + ' only ' + str(num_saved) + '/' + IMAGES_NEED_PER_CLASS)\n",
    "        else:\n",
    "            print(cl[0] + ' images downloading complite')\n",
    "        \n"
   ]
  }
 ],
 "metadata": {
  "kernelspec": {
   "display_name": "Python 3",
   "language": "python",
   "name": "python3"
  },
  "language_info": {
   "codemirror_mode": {
    "name": "ipython",
    "version": 3
   },
   "file_extension": ".py",
   "mimetype": "text/x-python",
   "name": "python",
   "nbconvert_exporter": "python",
   "pygments_lexer": "ipython3",
   "version": "3.8.3"
  }
 },
 "nbformat": 4,
 "nbformat_minor": 4
}
