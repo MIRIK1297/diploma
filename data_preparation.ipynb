{
 "cells": [
  {
   "cell_type": "code",
   "execution_count": null,
   "metadata": {},
   "outputs": [],
   "source": [
    "import pandas as pd\n",
    "import json\n",
    "import numpy as np\n",
    "\n",
    "\n",
    "used_classes = [('Airliner', 'n02690373'),\n",
    "                ('Sorrel', 'n02389026'),\n",
    "                ('Jack-o’-lantern', 'n03590841'),\n",
    "                ('Panda', 'n02510455'),\n",
    "                ('Anemone fish', 'n02607072')]\n",
    "\n",
    "# CHANGE THIS\n",
    "# Provide filenames of written EEG recordings\n",
    "eeg_files_pref = ['a_1', 'a_2', \n",
    "                  'v_1', 'v_2', \n",
    "                  'm_1', 'm_2']\n",
    "\n",
    "eeg_data_dir = 'eeg/'\n",
    "eeg_file_name = eeg_files_pref[5]\n",
    "eeg_file_path = eeg_data_dir + eeg_file_name + '.csv'\n",
    "\n",
    "eeg_data = pd.read_csv(eeg_file_path, \n",
    "                       names=['counter', 'interp', 'F3', 'FC5', 'AF3', 'F7', 'T7', 'P7', 'O1', \n",
    "                              'O2', 'P8', 'T8', 'F8', 'AF4', 'FC6', 'F4', 'RAW_CQ', 'GYROX', 'ts'])\n",
    "\n",
    "eeg_data['class'] = np.nan\n",
    "eeg_data['img_num'] = np.nan\n",
    "\n",
    "image_timestamps_path = eeg_data_dir + eeg_file_name + '_timestamps.json'\n",
    "with open(image_timestamps_path) as f:\n",
    "    image_timestamps = json.load(f)\n",
    "\n",
    "print(eeg_file_path)\n",
    "print(image_timestamps_path)\n",
    "print(len(image_timestamps))"
   ]
  },
  {
   "cell_type": "code",
   "execution_count": null,
   "metadata": {},
   "outputs": [],
   "source": [
    "eeg_data = eeg_data.drop(['interp', 'RAW_CQ', 'GYROX'], axis=1)\n",
    "\n",
    "eeg_data.head()"
   ]
  },
  {
   "cell_type": "code",
   "execution_count": null,
   "metadata": {},
   "outputs": [],
   "source": [
    "img_relation_delay_ns = 40 * (10 ** 6)\n",
    "viewed_classes = [name for name, n in classes]\n",
    "\n",
    "for i in range(len(image_timestamps) - 1):\n",
    "    cl_num = i // 71\n",
    "    img_num = i % 71 - 1\n",
    "    if img_num != -1:\n",
    "        eeg_data.loc[(eeg_data['ts'] >  image_timestamps[i] + img_relation_delay_ns) \n",
    "                     & (eeg_data['ts'] <  image_timestamps[i + 1]), 'class'] = viewed_classes[cl_num]\n",
    "        eeg_data.loc[(eeg_data['ts'] >  image_timestamps[i] + img_relation_delay_ns) \n",
    "                     & (eeg_data['ts'] <  image_timestamps[i + 1]), 'img_num'] = img_num\n",
    "        \n",
    "        \n",
    "eeg_data = eeg_data.dropna()\n",
    "eeg_data['img_num'] = eeg_data['img_num'].astype(int)\n",
    "eeg_data.head()"
   ]
  },
  {
   "cell_type": "code",
   "execution_count": null,
   "metadata": {},
   "outputs": [],
   "source": [
    "import os.path\n",
    "\n",
    "\n",
    "eeg_processed_dir = 'eeg_processed/'\n",
    "if not os.path.isdir(eeg_processed_dir):\n",
    "    print(\"Creating \" + eeg_processed_dir)\n",
    "    os.makedirs(eeg_processed_dir)\n",
    "\n",
    "for i, cl in enumerate(viewed_classes):\n",
    "    print(i, cl)\n",
    "    for j in range(70):\n",
    "        img_eeg = eeg_data.loc[(eeg_data['class'] == cl) & (eeg_data['img_num'] == j)]\n",
    "        img_eeg = img_eeg.reset_index(drop=True)\n",
    "        img_eeg_path = eeg_processed_dir + '{}_{}_{}.csv'.format(eeg_file_name[0] + eeg_file_name[-1], i, j)\n",
    "        if os.path.exists(img_eeg_path):\n",
    "            print (\"File already exist: \" + img_eeg_path)\n",
    "        else:\n",
    "            img_eeg.to_csv(img_eeg_path)"
   ]
  }
 ],
 "metadata": {
  "kernelspec": {
   "display_name": "Python 3",
   "language": "python",
   "name": "python3"
  },
  "language_info": {
   "codemirror_mode": {
    "name": "ipython",
    "version": 3
   },
   "file_extension": ".py",
   "mimetype": "text/x-python",
   "name": "python",
   "nbconvert_exporter": "python",
   "pygments_lexer": "ipython3",
   "version": "3.8.3"
  }
 },
 "nbformat": 4,
 "nbformat_minor": 4
}
